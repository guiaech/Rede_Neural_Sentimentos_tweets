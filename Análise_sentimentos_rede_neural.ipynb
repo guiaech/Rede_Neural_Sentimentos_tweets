{
  "nbformat": 4,
  "nbformat_minor": 0,
  "metadata": {
    "colab": {
      "name": "Análise sentimentos rede neural",
      "provenance": [],
      "include_colab_link": true
    },
    "kernelspec": {
      "name": "python3",
      "display_name": "Python 3"
    },
    "language_info": {
      "name": "python"
    }
  },
  "cells": [
    {
      "cell_type": "markdown",
      "metadata": {
        "id": "view-in-github",
        "colab_type": "text"
      },
      "source": [
        "<a href=\"https://colab.research.google.com/github/guiaech/Rede_Neural_Sentimentos_tweets/blob/main/An%C3%A1lise_sentimentos_rede_neural.ipynb\" target=\"_parent\"><img src=\"https://colab.research.google.com/assets/colab-badge.svg\" alt=\"Open In Colab\"/></a>"
      ]
    },
    {
      "cell_type": "code",
      "metadata": {
        "id": "mS3f98EVyUQe"
      },
      "source": [
        "import pandas as pd\n",
        "\n",
        "data = pd.read_csv(\"tweets_classificados.csv\")"
      ],
      "execution_count": null,
      "outputs": []
    },
    {
      "cell_type": "code",
      "metadata": {
        "colab": {
          "base_uri": "https://localhost:8080/",
          "height": 590
        },
        "id": "FBP75A_mymYL",
        "outputId": "f390f5dc-0365-4b24-f7ef-b2ccb7a19bd9"
      },
      "source": [
        "data.head()"
      ],
      "execution_count": null,
      "outputs": [
        {
          "output_type": "execute_result",
          "data": {
            "text/html": [
              "<div>\n",
              "<style scoped>\n",
              "    .dataframe tbody tr th:only-of-type {\n",
              "        vertical-align: middle;\n",
              "    }\n",
              "\n",
              "    .dataframe tbody tr th {\n",
              "        vertical-align: top;\n",
              "    }\n",
              "\n",
              "    .dataframe thead th {\n",
              "        text-align: right;\n",
              "    }\n",
              "</style>\n",
              "<table border=\"1\" class=\"dataframe\">\n",
              "  <thead>\n",
              "    <tr style=\"text-align: right;\">\n",
              "      <th></th>\n",
              "      <th>Unnamed: 0</th>\n",
              "      <th>Created At</th>\n",
              "      <th>Text</th>\n",
              "      <th>Geo Coordinates.latitude</th>\n",
              "      <th>Geo Coordinates.longitude</th>\n",
              "      <th>User Location</th>\n",
              "      <th>Username</th>\n",
              "      <th>User Screen Name</th>\n",
              "      <th>Retweet Count</th>\n",
              "      <th>Classificacao</th>\n",
              "      <th>Observação</th>\n",
              "      <th>Unnamed: 10</th>\n",
              "      <th>Unnamed: 11</th>\n",
              "      <th>Unnamed: 12</th>\n",
              "      <th>Unnamed: 13</th>\n",
              "      <th>Unnamed: 14</th>\n",
              "      <th>Unnamed: 15</th>\n",
              "      <th>Unnamed: 16</th>\n",
              "      <th>Unnamed: 17</th>\n",
              "      <th>Unnamed: 18</th>\n",
              "      <th>Unnamed: 19</th>\n",
              "      <th>Unnamed: 20</th>\n",
              "      <th>Unnamed: 21</th>\n",
              "      <th>Unnamed: 22</th>\n",
              "      <th>Unnamed: 23</th>\n",
              "      <th>Unnamed: 24</th>\n",
              "    </tr>\n",
              "  </thead>\n",
              "  <tbody>\n",
              "    <tr>\n",
              "      <th>0</th>\n",
              "      <td>0</td>\n",
              "      <td>Sun Jan 08 01:22:05 +0000 2017</td>\n",
              "      <td>���⛪ @ Catedral de Santo Antônio - Governador ...</td>\n",
              "      <td>NaN</td>\n",
              "      <td>NaN</td>\n",
              "      <td>Brasil</td>\n",
              "      <td>Leonardo C Schneider</td>\n",
              "      <td>LeoCSchneider</td>\n",
              "      <td>0</td>\n",
              "      <td>Neutro</td>\n",
              "      <td>NaN</td>\n",
              "      <td>NaN</td>\n",
              "      <td>NaN</td>\n",
              "      <td>NaN</td>\n",
              "      <td>NaN</td>\n",
              "      <td>NaN</td>\n",
              "      <td>NaN</td>\n",
              "      <td>NaN</td>\n",
              "      <td>NaN</td>\n",
              "      <td>NaN</td>\n",
              "      <td>NaN</td>\n",
              "      <td>NaN</td>\n",
              "      <td>NaN</td>\n",
              "      <td>NaN</td>\n",
              "      <td>NaN</td>\n",
              "      <td>NaN</td>\n",
              "    </tr>\n",
              "    <tr>\n",
              "      <th>1</th>\n",
              "      <td>1</td>\n",
              "      <td>Sun Jan 08 01:49:01 +0000 2017</td>\n",
              "      <td>� @ Governador Valadares, Minas Gerais https:/...</td>\n",
              "      <td>-41.9333</td>\n",
              "      <td>-18.85</td>\n",
              "      <td>NaN</td>\n",
              "      <td>Wândell</td>\n",
              "      <td>klefnews</td>\n",
              "      <td>0</td>\n",
              "      <td>Neutro</td>\n",
              "      <td>NaN</td>\n",
              "      <td>NaN</td>\n",
              "      <td>NaN</td>\n",
              "      <td>NaN</td>\n",
              "      <td>NaN</td>\n",
              "      <td>NaN</td>\n",
              "      <td>NaN</td>\n",
              "      <td>NaN</td>\n",
              "      <td>NaN</td>\n",
              "      <td>NaN</td>\n",
              "      <td>NaN</td>\n",
              "      <td>NaN</td>\n",
              "      <td>NaN</td>\n",
              "      <td>NaN</td>\n",
              "      <td>NaN</td>\n",
              "      <td>NaN</td>\n",
              "    </tr>\n",
              "    <tr>\n",
              "      <th>2</th>\n",
              "      <td>2</td>\n",
              "      <td>Sun Jan 08 01:01:46 +0000 2017</td>\n",
              "      <td>�� @ Governador Valadares, Minas Gerais https:...</td>\n",
              "      <td>-41.9333</td>\n",
              "      <td>-18.85</td>\n",
              "      <td>NaN</td>\n",
              "      <td>Wândell</td>\n",
              "      <td>klefnews</td>\n",
              "      <td>0</td>\n",
              "      <td>Neutro</td>\n",
              "      <td>NaN</td>\n",
              "      <td>NaN</td>\n",
              "      <td>NaN</td>\n",
              "      <td>NaN</td>\n",
              "      <td>NaN</td>\n",
              "      <td>NaN</td>\n",
              "      <td>NaN</td>\n",
              "      <td>NaN</td>\n",
              "      <td>NaN</td>\n",
              "      <td>NaN</td>\n",
              "      <td>NaN</td>\n",
              "      <td>NaN</td>\n",
              "      <td>NaN</td>\n",
              "      <td>NaN</td>\n",
              "      <td>NaN</td>\n",
              "      <td>NaN</td>\n",
              "    </tr>\n",
              "    <tr>\n",
              "      <th>3</th>\n",
              "      <td>3</td>\n",
              "      <td>Wed Jan 04 21:43:51 +0000 2017</td>\n",
              "      <td>��� https://t.co/BnDsO34qK0</td>\n",
              "      <td>NaN</td>\n",
              "      <td>NaN</td>\n",
              "      <td>NaN</td>\n",
              "      <td>Ana estudando</td>\n",
              "      <td>estudandoconcur</td>\n",
              "      <td>0</td>\n",
              "      <td>Neutro</td>\n",
              "      <td>NaN</td>\n",
              "      <td>NaN</td>\n",
              "      <td>NaN</td>\n",
              "      <td>NaN</td>\n",
              "      <td>NaN</td>\n",
              "      <td>NaN</td>\n",
              "      <td>NaN</td>\n",
              "      <td>NaN</td>\n",
              "      <td>NaN</td>\n",
              "      <td>NaN</td>\n",
              "      <td>NaN</td>\n",
              "      <td>NaN</td>\n",
              "      <td>NaN</td>\n",
              "      <td>NaN</td>\n",
              "      <td>NaN</td>\n",
              "      <td>NaN</td>\n",
              "    </tr>\n",
              "    <tr>\n",
              "      <th>4</th>\n",
              "      <td>4</td>\n",
              "      <td>Mon Jan 09 15:08:21 +0000 2017</td>\n",
              "      <td>��� PSOL vai questionar aumento de vereadores ...</td>\n",
              "      <td>NaN</td>\n",
              "      <td>NaN</td>\n",
              "      <td>NaN</td>\n",
              "      <td>Emily</td>\n",
              "      <td>Milly777</td>\n",
              "      <td>0</td>\n",
              "      <td>Negativo</td>\n",
              "      <td>NaN</td>\n",
              "      <td>NaN</td>\n",
              "      <td>NaN</td>\n",
              "      <td>NaN</td>\n",
              "      <td>NaN</td>\n",
              "      <td>NaN</td>\n",
              "      <td>NaN</td>\n",
              "      <td>NaN</td>\n",
              "      <td>NaN</td>\n",
              "      <td>NaN</td>\n",
              "      <td>NaN</td>\n",
              "      <td>NaN</td>\n",
              "      <td>NaN</td>\n",
              "      <td>NaN</td>\n",
              "      <td>NaN</td>\n",
              "      <td>NaN</td>\n",
              "    </tr>\n",
              "  </tbody>\n",
              "</table>\n",
              "</div>"
            ],
            "text/plain": [
              "   Unnamed: 0                      Created At  ... Unnamed: 23  Unnamed: 24\n",
              "0           0  Sun Jan 08 01:22:05 +0000 2017  ...         NaN          NaN\n",
              "1           1  Sun Jan 08 01:49:01 +0000 2017  ...         NaN          NaN\n",
              "2           2  Sun Jan 08 01:01:46 +0000 2017  ...         NaN          NaN\n",
              "3           3  Wed Jan 04 21:43:51 +0000 2017  ...         NaN          NaN\n",
              "4           4  Mon Jan 09 15:08:21 +0000 2017  ...         NaN          NaN\n",
              "\n",
              "[5 rows x 26 columns]"
            ]
          },
          "metadata": {},
          "execution_count": 2
        }
      ]
    },
    {
      "cell_type": "code",
      "metadata": {
        "colab": {
          "base_uri": "https://localhost:8080/"
        },
        "id": "7JOiVuqnyxk1",
        "outputId": "0522e06d-9730-48da-e3f1-7bee87b76d51"
      },
      "source": [
        "data.shape"
      ],
      "execution_count": null,
      "outputs": [
        {
          "output_type": "execute_result",
          "data": {
            "text/plain": [
              "(8199, 26)"
            ]
          },
          "metadata": {},
          "execution_count": 3
        }
      ]
    },
    {
      "cell_type": "code",
      "metadata": {
        "colab": {
          "base_uri": "https://localhost:8080/"
        },
        "id": "H9fLTxGvy3g9",
        "outputId": "7ba4f3f9-87f7-418b-d88b-b9fc377538e1"
      },
      "source": [
        "data.groupby(by=['Classificacao'])['Classificacao'].count()"
      ],
      "execution_count": null,
      "outputs": [
        {
          "output_type": "execute_result",
          "data": {
            "text/plain": [
              "Classificacao\n",
              "Negativo    2446\n",
              "Neutro      2453\n",
              "Positivo    3300\n",
              "Name: Classificacao, dtype: int64"
            ]
          },
          "metadata": {},
          "execution_count": 5
        }
      ]
    },
    {
      "cell_type": "code",
      "metadata": {
        "id": "wXLiYohN5iBt"
      },
      "source": [
        "data['Sentiments'] = data['Classificacao'].replace({'Negativo': 1, 'Neutro': 2, 'Positivo':3}) "
      ],
      "execution_count": null,
      "outputs": []
    },
    {
      "cell_type": "code",
      "metadata": {
        "colab": {
          "base_uri": "https://localhost:8080/",
          "height": 1000
        },
        "id": "nRWtYsFk5_-X",
        "outputId": "c138350f-6884-4265-f8fd-7705e6e46e1f"
      },
      "source": [
        "data"
      ],
      "execution_count": null,
      "outputs": [
        {
          "output_type": "execute_result",
          "data": {
            "text/html": [
              "<div>\n",
              "<style scoped>\n",
              "    .dataframe tbody tr th:only-of-type {\n",
              "        vertical-align: middle;\n",
              "    }\n",
              "\n",
              "    .dataframe tbody tr th {\n",
              "        vertical-align: top;\n",
              "    }\n",
              "\n",
              "    .dataframe thead th {\n",
              "        text-align: right;\n",
              "    }\n",
              "</style>\n",
              "<table border=\"1\" class=\"dataframe\">\n",
              "  <thead>\n",
              "    <tr style=\"text-align: right;\">\n",
              "      <th></th>\n",
              "      <th>Unnamed: 0</th>\n",
              "      <th>Created At</th>\n",
              "      <th>Text</th>\n",
              "      <th>Geo Coordinates.latitude</th>\n",
              "      <th>Geo Coordinates.longitude</th>\n",
              "      <th>User Location</th>\n",
              "      <th>Username</th>\n",
              "      <th>User Screen Name</th>\n",
              "      <th>Retweet Count</th>\n",
              "      <th>Classificacao</th>\n",
              "      <th>Observação</th>\n",
              "      <th>Unnamed: 10</th>\n",
              "      <th>Unnamed: 11</th>\n",
              "      <th>Unnamed: 12</th>\n",
              "      <th>Unnamed: 13</th>\n",
              "      <th>Unnamed: 14</th>\n",
              "      <th>Unnamed: 15</th>\n",
              "      <th>Unnamed: 16</th>\n",
              "      <th>Unnamed: 17</th>\n",
              "      <th>Unnamed: 18</th>\n",
              "      <th>Unnamed: 19</th>\n",
              "      <th>Unnamed: 20</th>\n",
              "      <th>Unnamed: 21</th>\n",
              "      <th>Unnamed: 22</th>\n",
              "      <th>Unnamed: 23</th>\n",
              "      <th>Unnamed: 24</th>\n",
              "      <th>Sentiments</th>\n",
              "    </tr>\n",
              "  </thead>\n",
              "  <tbody>\n",
              "    <tr>\n",
              "      <th>0</th>\n",
              "      <td>0</td>\n",
              "      <td>Sun Jan 08 01:22:05 +0000 2017</td>\n",
              "      <td>���⛪ @ Catedral de Santo Antônio - Governador ...</td>\n",
              "      <td>NaN</td>\n",
              "      <td>NaN</td>\n",
              "      <td>Brasil</td>\n",
              "      <td>Leonardo C Schneider</td>\n",
              "      <td>LeoCSchneider</td>\n",
              "      <td>0</td>\n",
              "      <td>Neutro</td>\n",
              "      <td>NaN</td>\n",
              "      <td>NaN</td>\n",
              "      <td>NaN</td>\n",
              "      <td>NaN</td>\n",
              "      <td>NaN</td>\n",
              "      <td>NaN</td>\n",
              "      <td>NaN</td>\n",
              "      <td>NaN</td>\n",
              "      <td>NaN</td>\n",
              "      <td>NaN</td>\n",
              "      <td>NaN</td>\n",
              "      <td>NaN</td>\n",
              "      <td>NaN</td>\n",
              "      <td>NaN</td>\n",
              "      <td>NaN</td>\n",
              "      <td>NaN</td>\n",
              "      <td>2</td>\n",
              "    </tr>\n",
              "    <tr>\n",
              "      <th>1</th>\n",
              "      <td>1</td>\n",
              "      <td>Sun Jan 08 01:49:01 +0000 2017</td>\n",
              "      <td>� @ Governador Valadares, Minas Gerais https:/...</td>\n",
              "      <td>-41.9333</td>\n",
              "      <td>-18.85</td>\n",
              "      <td>NaN</td>\n",
              "      <td>Wândell</td>\n",
              "      <td>klefnews</td>\n",
              "      <td>0</td>\n",
              "      <td>Neutro</td>\n",
              "      <td>NaN</td>\n",
              "      <td>NaN</td>\n",
              "      <td>NaN</td>\n",
              "      <td>NaN</td>\n",
              "      <td>NaN</td>\n",
              "      <td>NaN</td>\n",
              "      <td>NaN</td>\n",
              "      <td>NaN</td>\n",
              "      <td>NaN</td>\n",
              "      <td>NaN</td>\n",
              "      <td>NaN</td>\n",
              "      <td>NaN</td>\n",
              "      <td>NaN</td>\n",
              "      <td>NaN</td>\n",
              "      <td>NaN</td>\n",
              "      <td>NaN</td>\n",
              "      <td>2</td>\n",
              "    </tr>\n",
              "    <tr>\n",
              "      <th>2</th>\n",
              "      <td>2</td>\n",
              "      <td>Sun Jan 08 01:01:46 +0000 2017</td>\n",
              "      <td>�� @ Governador Valadares, Minas Gerais https:...</td>\n",
              "      <td>-41.9333</td>\n",
              "      <td>-18.85</td>\n",
              "      <td>NaN</td>\n",
              "      <td>Wândell</td>\n",
              "      <td>klefnews</td>\n",
              "      <td>0</td>\n",
              "      <td>Neutro</td>\n",
              "      <td>NaN</td>\n",
              "      <td>NaN</td>\n",
              "      <td>NaN</td>\n",
              "      <td>NaN</td>\n",
              "      <td>NaN</td>\n",
              "      <td>NaN</td>\n",
              "      <td>NaN</td>\n",
              "      <td>NaN</td>\n",
              "      <td>NaN</td>\n",
              "      <td>NaN</td>\n",
              "      <td>NaN</td>\n",
              "      <td>NaN</td>\n",
              "      <td>NaN</td>\n",
              "      <td>NaN</td>\n",
              "      <td>NaN</td>\n",
              "      <td>NaN</td>\n",
              "      <td>2</td>\n",
              "    </tr>\n",
              "    <tr>\n",
              "      <th>3</th>\n",
              "      <td>3</td>\n",
              "      <td>Wed Jan 04 21:43:51 +0000 2017</td>\n",
              "      <td>��� https://t.co/BnDsO34qK0</td>\n",
              "      <td>NaN</td>\n",
              "      <td>NaN</td>\n",
              "      <td>NaN</td>\n",
              "      <td>Ana estudando</td>\n",
              "      <td>estudandoconcur</td>\n",
              "      <td>0</td>\n",
              "      <td>Neutro</td>\n",
              "      <td>NaN</td>\n",
              "      <td>NaN</td>\n",
              "      <td>NaN</td>\n",
              "      <td>NaN</td>\n",
              "      <td>NaN</td>\n",
              "      <td>NaN</td>\n",
              "      <td>NaN</td>\n",
              "      <td>NaN</td>\n",
              "      <td>NaN</td>\n",
              "      <td>NaN</td>\n",
              "      <td>NaN</td>\n",
              "      <td>NaN</td>\n",
              "      <td>NaN</td>\n",
              "      <td>NaN</td>\n",
              "      <td>NaN</td>\n",
              "      <td>NaN</td>\n",
              "      <td>2</td>\n",
              "    </tr>\n",
              "    <tr>\n",
              "      <th>4</th>\n",
              "      <td>4</td>\n",
              "      <td>Mon Jan 09 15:08:21 +0000 2017</td>\n",
              "      <td>��� PSOL vai questionar aumento de vereadores ...</td>\n",
              "      <td>NaN</td>\n",
              "      <td>NaN</td>\n",
              "      <td>NaN</td>\n",
              "      <td>Emily</td>\n",
              "      <td>Milly777</td>\n",
              "      <td>0</td>\n",
              "      <td>Negativo</td>\n",
              "      <td>NaN</td>\n",
              "      <td>NaN</td>\n",
              "      <td>NaN</td>\n",
              "      <td>NaN</td>\n",
              "      <td>NaN</td>\n",
              "      <td>NaN</td>\n",
              "      <td>NaN</td>\n",
              "      <td>NaN</td>\n",
              "      <td>NaN</td>\n",
              "      <td>NaN</td>\n",
              "      <td>NaN</td>\n",
              "      <td>NaN</td>\n",
              "      <td>NaN</td>\n",
              "      <td>NaN</td>\n",
              "      <td>NaN</td>\n",
              "      <td>NaN</td>\n",
              "      <td>1</td>\n",
              "    </tr>\n",
              "    <tr>\n",
              "      <th>...</th>\n",
              "      <td>...</td>\n",
              "      <td>...</td>\n",
              "      <td>...</td>\n",
              "      <td>...</td>\n",
              "      <td>...</td>\n",
              "      <td>...</td>\n",
              "      <td>...</td>\n",
              "      <td>...</td>\n",
              "      <td>...</td>\n",
              "      <td>...</td>\n",
              "      <td>...</td>\n",
              "      <td>...</td>\n",
              "      <td>...</td>\n",
              "      <td>...</td>\n",
              "      <td>...</td>\n",
              "      <td>...</td>\n",
              "      <td>...</td>\n",
              "      <td>...</td>\n",
              "      <td>...</td>\n",
              "      <td>...</td>\n",
              "      <td>...</td>\n",
              "      <td>...</td>\n",
              "      <td>...</td>\n",
              "      <td>...</td>\n",
              "      <td>...</td>\n",
              "      <td>...</td>\n",
              "      <td>...</td>\n",
              "    </tr>\n",
              "    <tr>\n",
              "      <th>8194</th>\n",
              "      <td>8194</td>\n",
              "      <td>Thu Feb 09 11:48:07 +0000 2017</td>\n",
              "      <td>Trio é preso suspeito de roubo, tráfico e abus...</td>\n",
              "      <td>NaN</td>\n",
              "      <td>NaN</td>\n",
              "      <td>NaN</td>\n",
              "      <td>Ana Lúcia</td>\n",
              "      <td>lapiseirapentel</td>\n",
              "      <td>0</td>\n",
              "      <td>Positivo</td>\n",
              "      <td>NaN</td>\n",
              "      <td>NaN</td>\n",
              "      <td>NaN</td>\n",
              "      <td>NaN</td>\n",
              "      <td>NaN</td>\n",
              "      <td>NaN</td>\n",
              "      <td>NaN</td>\n",
              "      <td>NaN</td>\n",
              "      <td>NaN</td>\n",
              "      <td>NaN</td>\n",
              "      <td>NaN</td>\n",
              "      <td>NaN</td>\n",
              "      <td>NaN</td>\n",
              "      <td>NaN</td>\n",
              "      <td>NaN</td>\n",
              "      <td>NaN</td>\n",
              "      <td>3</td>\n",
              "    </tr>\n",
              "    <tr>\n",
              "      <th>8195</th>\n",
              "      <td>8195</td>\n",
              "      <td>Thu Feb 09 12:10:19 +0000 2017</td>\n",
              "      <td>Trio é preso suspeito de roubo, tráfico e abus...</td>\n",
              "      <td>NaN</td>\n",
              "      <td>NaN</td>\n",
              "      <td>Belo Horizonte - Minas Gerais</td>\n",
              "      <td>Marcelo Rezende</td>\n",
              "      <td>Televans</td>\n",
              "      <td>0</td>\n",
              "      <td>Positivo</td>\n",
              "      <td>NaN</td>\n",
              "      <td>NaN</td>\n",
              "      <td>NaN</td>\n",
              "      <td>NaN</td>\n",
              "      <td>NaN</td>\n",
              "      <td>NaN</td>\n",
              "      <td>NaN</td>\n",
              "      <td>NaN</td>\n",
              "      <td>NaN</td>\n",
              "      <td>NaN</td>\n",
              "      <td>NaN</td>\n",
              "      <td>NaN</td>\n",
              "      <td>NaN</td>\n",
              "      <td>NaN</td>\n",
              "      <td>NaN</td>\n",
              "      <td>NaN</td>\n",
              "      <td>3</td>\n",
              "    </tr>\n",
              "    <tr>\n",
              "      <th>8196</th>\n",
              "      <td>8196</td>\n",
              "      <td>Thu Feb 09 12:04:17 +0000 2017</td>\n",
              "      <td>Trio é preso suspeito de roubo, tráfico e abus...</td>\n",
              "      <td>NaN</td>\n",
              "      <td>NaN</td>\n",
              "      <td>Guarulhos - SP</td>\n",
              "      <td>Leonardo Nascimento</td>\n",
              "      <td>leonardogru</td>\n",
              "      <td>0</td>\n",
              "      <td>Positivo</td>\n",
              "      <td>NaN</td>\n",
              "      <td>NaN</td>\n",
              "      <td>NaN</td>\n",
              "      <td>NaN</td>\n",
              "      <td>NaN</td>\n",
              "      <td>NaN</td>\n",
              "      <td>NaN</td>\n",
              "      <td>NaN</td>\n",
              "      <td>NaN</td>\n",
              "      <td>NaN</td>\n",
              "      <td>NaN</td>\n",
              "      <td>NaN</td>\n",
              "      <td>NaN</td>\n",
              "      <td>NaN</td>\n",
              "      <td>NaN</td>\n",
              "      <td>NaN</td>\n",
              "      <td>3</td>\n",
              "    </tr>\n",
              "    <tr>\n",
              "      <th>8197</th>\n",
              "      <td>8197</td>\n",
              "      <td>Thu Feb 09 12:10:04 +0000 2017</td>\n",
              "      <td>Trio é preso suspeito de roubo, tráfico e abus...</td>\n",
              "      <td>NaN</td>\n",
              "      <td>NaN</td>\n",
              "      <td>Brasil Natal/RN</td>\n",
              "      <td>Lucas Medeiros �©™</td>\n",
              "      <td>parabolicalucas</td>\n",
              "      <td>0</td>\n",
              "      <td>Positivo</td>\n",
              "      <td>NaN</td>\n",
              "      <td>NaN</td>\n",
              "      <td>NaN</td>\n",
              "      <td>NaN</td>\n",
              "      <td>NaN</td>\n",
              "      <td>NaN</td>\n",
              "      <td>NaN</td>\n",
              "      <td>NaN</td>\n",
              "      <td>NaN</td>\n",
              "      <td>NaN</td>\n",
              "      <td>NaN</td>\n",
              "      <td>NaN</td>\n",
              "      <td>NaN</td>\n",
              "      <td>NaN</td>\n",
              "      <td>NaN</td>\n",
              "      <td>NaN</td>\n",
              "      <td>3</td>\n",
              "    </tr>\n",
              "    <tr>\n",
              "      <th>8198</th>\n",
              "      <td>8198</td>\n",
              "      <td>Tue Feb 07 15:01:30 +0000 2017</td>\n",
              "      <td>Trio suspeito de roubo de cargas é preso em Sa...</td>\n",
              "      <td>NaN</td>\n",
              "      <td>NaN</td>\n",
              "      <td>Belo Horizonte - MG</td>\n",
              "      <td>RecordTV Minas</td>\n",
              "      <td>tvrecordminas</td>\n",
              "      <td>0</td>\n",
              "      <td>Positivo</td>\n",
              "      <td>NaN</td>\n",
              "      <td>NaN</td>\n",
              "      <td>NaN</td>\n",
              "      <td>NaN</td>\n",
              "      <td>NaN</td>\n",
              "      <td>NaN</td>\n",
              "      <td>NaN</td>\n",
              "      <td>NaN</td>\n",
              "      <td>NaN</td>\n",
              "      <td>NaN</td>\n",
              "      <td>NaN</td>\n",
              "      <td>NaN</td>\n",
              "      <td>NaN</td>\n",
              "      <td>NaN</td>\n",
              "      <td>NaN</td>\n",
              "      <td>NaN</td>\n",
              "      <td>3</td>\n",
              "    </tr>\n",
              "  </tbody>\n",
              "</table>\n",
              "<p>8199 rows × 27 columns</p>\n",
              "</div>"
            ],
            "text/plain": [
              "      Unnamed: 0                      Created At  ... Unnamed: 24  Sentiments\n",
              "0              0  Sun Jan 08 01:22:05 +0000 2017  ...         NaN           2\n",
              "1              1  Sun Jan 08 01:49:01 +0000 2017  ...         NaN           2\n",
              "2              2  Sun Jan 08 01:01:46 +0000 2017  ...         NaN           2\n",
              "3              3  Wed Jan 04 21:43:51 +0000 2017  ...         NaN           2\n",
              "4              4  Mon Jan 09 15:08:21 +0000 2017  ...         NaN           1\n",
              "...          ...                             ...  ...         ...         ...\n",
              "8194        8194  Thu Feb 09 11:48:07 +0000 2017  ...         NaN           3\n",
              "8195        8195  Thu Feb 09 12:10:19 +0000 2017  ...         NaN           3\n",
              "8196        8196  Thu Feb 09 12:04:17 +0000 2017  ...         NaN           3\n",
              "8197        8197  Thu Feb 09 12:10:04 +0000 2017  ...         NaN           3\n",
              "8198        8198  Tue Feb 07 15:01:30 +0000 2017  ...         NaN           3\n",
              "\n",
              "[8199 rows x 27 columns]"
            ]
          },
          "metadata": {},
          "execution_count": 61
        }
      ]
    },
    {
      "cell_type": "code",
      "metadata": {
        "colab": {
          "base_uri": "https://localhost:8080/"
        },
        "id": "wg-VjVA3zZAi",
        "outputId": "a3d9efce-8d37-4d8e-fa42-70fa1e0fce5e"
      },
      "source": [
        "mask = data['Sentiments'].isin([1,2,3])\n",
        "new_data = data[mask]\n",
        "new_data.shape[0]"
      ],
      "execution_count": null,
      "outputs": [
        {
          "output_type": "execute_result",
          "data": {
            "text/plain": [
              "8199"
            ]
          },
          "metadata": {},
          "execution_count": 62
        }
      ]
    },
    {
      "cell_type": "code",
      "metadata": {
        "colab": {
          "base_uri": "https://localhost:8080/",
          "height": 206
        },
        "id": "gcRGKAcF011p",
        "outputId": "143e9938-ee1f-4ba7-b362-18c8ade011ab"
      },
      "source": [
        "sentiments = new_data['Sentiments']\n",
        "texts = new_data['Text']\n",
        "\n",
        "df= pd.concat([sentiments, text], axis = 1)\n",
        "df.head()"
      ],
      "execution_count": null,
      "outputs": [
        {
          "output_type": "execute_result",
          "data": {
            "text/html": [
              "<div>\n",
              "<style scoped>\n",
              "    .dataframe tbody tr th:only-of-type {\n",
              "        vertical-align: middle;\n",
              "    }\n",
              "\n",
              "    .dataframe tbody tr th {\n",
              "        vertical-align: top;\n",
              "    }\n",
              "\n",
              "    .dataframe thead th {\n",
              "        text-align: right;\n",
              "    }\n",
              "</style>\n",
              "<table border=\"1\" class=\"dataframe\">\n",
              "  <thead>\n",
              "    <tr style=\"text-align: right;\">\n",
              "      <th></th>\n",
              "      <th>Sentiments</th>\n",
              "      <th>Text</th>\n",
              "    </tr>\n",
              "  </thead>\n",
              "  <tbody>\n",
              "    <tr>\n",
              "      <th>0</th>\n",
              "      <td>2</td>\n",
              "      <td>���⛪ @ Catedral de Santo Antônio - Governador ...</td>\n",
              "    </tr>\n",
              "    <tr>\n",
              "      <th>1</th>\n",
              "      <td>2</td>\n",
              "      <td>� @ Governador Valadares, Minas Gerais https:/...</td>\n",
              "    </tr>\n",
              "    <tr>\n",
              "      <th>2</th>\n",
              "      <td>2</td>\n",
              "      <td>�� @ Governador Valadares, Minas Gerais https:...</td>\n",
              "    </tr>\n",
              "    <tr>\n",
              "      <th>3</th>\n",
              "      <td>2</td>\n",
              "      <td>��� https://t.co/BnDsO34qK0</td>\n",
              "    </tr>\n",
              "    <tr>\n",
              "      <th>4</th>\n",
              "      <td>1</td>\n",
              "      <td>��� PSOL vai questionar aumento de vereadores ...</td>\n",
              "    </tr>\n",
              "  </tbody>\n",
              "</table>\n",
              "</div>"
            ],
            "text/plain": [
              "   Sentiments                                               Text\n",
              "0           2  ���⛪ @ Catedral de Santo Antônio - Governador ...\n",
              "1           2  � @ Governador Valadares, Minas Gerais https:/...\n",
              "2           2  �� @ Governador Valadares, Minas Gerais https:...\n",
              "3           2                        ��� https://t.co/BnDsO34qK0\n",
              "4           1  ��� PSOL vai questionar aumento de vereadores ..."
            ]
          },
          "metadata": {},
          "execution_count": 64
        }
      ]
    },
    {
      "cell_type": "code",
      "metadata": {
        "colab": {
          "base_uri": "https://localhost:8080/"
        },
        "id": "Nbd3wNc-1MpR",
        "outputId": "62cdd46b-5864-4a79-a166-869cb0c60fb6"
      },
      "source": [
        "df.shape[0]"
      ],
      "execution_count": null,
      "outputs": [
        {
          "output_type": "execute_result",
          "data": {
            "text/plain": [
              "8199"
            ]
          },
          "metadata": {},
          "execution_count": 65
        }
      ]
    },
    {
      "cell_type": "code",
      "metadata": {
        "colab": {
          "base_uri": "https://localhost:8080/",
          "height": 351
        },
        "id": "8EKsJPRY1VDY",
        "outputId": "430065a2-2560-4e2e-bae4-1be50635ad3c"
      },
      "source": [
        "import seaborn as sns\n",
        "sns.countplot(df['Sentiments'])"
      ],
      "execution_count": null,
      "outputs": [
        {
          "output_type": "stream",
          "name": "stderr",
          "text": [
            "/usr/local/lib/python3.7/dist-packages/seaborn/_decorators.py:43: FutureWarning: Pass the following variable as a keyword arg: x. From version 0.12, the only valid positional argument will be `data`, and passing other arguments without an explicit keyword will result in an error or misinterpretation.\n",
            "  FutureWarning\n"
          ]
        },
        {
          "output_type": "execute_result",
          "data": {
            "text/plain": [
              "<matplotlib.axes._subplots.AxesSubplot at 0x7fe16995b610>"
            ]
          },
          "metadata": {},
          "execution_count": 67
        },
        {
          "output_type": "display_data",
          "data": {
            "image/png": "[encoded data removed]",
            "text/plain": [
              "<Figure size 432x288 with 1 Axes>"
            ]
          },
          "metadata": {
            "needs_background": "light"
          }
        }
      ]
    },
    {
      "cell_type": "code",
      "metadata": {
        "id": "sAkV6BIZ2T-O"
      },
      "source": [
        "# Arrumando as frases. Vamos substituir todas as maiusculas por\n",
        "# minusculas e tirar quaisquer pontuaçoes desnecessárias dos dados\n",
        "# (tanto de treinamento quanto de teste):\n",
        "\n",
        "import re # Esta é a biblioteca ReGex, usada para auxiliar a localização\n",
        "          # de padrões\n",
        "\n",
        "\n",
        "accent_map = {u'\\u00c0': u'A', u'\\u00c1': u'A', u'\\u00c2': u'A', u'\\u00c3': u'A', u'\\u00c4': u'A', u'\\u00c5': u'A', u'\\u00c6': u'A', u'\\u00c7': u'C', u'\\u00c8': u'E', u'\\u00c9': u'E', u'\\u00ca': u'E', u'\\u00cb': u'E', u'\\u00cc': u'I', u'\\u00cd': u'I', u'\\u00ce': u'I', u'\\u00cf': u'I', u'\\u00d0': u'D', u'\\u00d1': u'N', u'\\u00d2': u'O', u'\\u00d3': u'O', u'\\u00d4': u'O', u'\\u00d5': u'O', u'\\u00d6': u'O', u'\\u00d7': u'x', u'\\u00d8': u'0', u'\\u00d9': u'U', u'\\u00da': u'U', u'\\u00db': u'U', u'\\u00dc': u'U', U'\\u00dd': u'Y', u'\\u00df': u'B', u'\\u00e0': u'a', u'\\u00e1': u'a', u'\\u00e2': u'a', u'\\u00e3': u'a', u'\\u00e4': u'a', u'\\u00e5': u'a', u'\\u00e6': u'a', u'\\u00e7': u'c', u'\\u00e8': u'e', u'\\u00e9': u'e', u'\\u00ea': u'e', u'\\u00eb': u'e', u'\\u00ec': u'i', u'\\u00ed': u'i', u'\\u00ee': u'i', u'\\u00ef': u'i', u'\\u00f1': u'n', u'\\u00f2': u'o', u'\\u00f3': u'o', u'\\u00f4': u'o', u'\\u00f5': u'o', u'\\u00f6': u'o', u'\\u00f8': u'0', u'\\u00f9': u'u', u'\\u00fa': u'u', u'\\u00fb': u'u', u'\\u00fc': u'u'}\n",
        "\n",
        "\n",
        "def accent_remove(m):\n",
        "    return accent_map[m.group(0)]\n",
        "\n",
        "def remove_emoji(string):\n",
        "    emoji_pattern = re.compile(\"[\"\n",
        "                           u\"\\U0001F600-\\U0001F64F\"  # emoticons\n",
        "                           u\"\\U0001F300-\\U0001F5FF\"  # symbols & pictographs\n",
        "                           u\"\\U0001F680-\\U0001F6FF\"  # transport & map symbols\n",
        "                           u\"\\U0001F1E0-\\U0001F1FF\"  # flags (iOS)\n",
        "                           u\"\\U00002702-\\U000027B0\"\n",
        "                           u\"\\U000024C2-\\U0001F251\"\n",
        "                           \"]+\", flags=re.UNICODE)\n",
        "    return emoji_pattern.sub(r'', string)\n",
        "    \n",
        "def clean_tts(list_to_clean):\n",
        "    for idx, item in enumerate(list_to_clean):\n",
        "        # transforma tudo para str\n",
        "        list_to_clean[idx] = str(item)\n",
        "        # retira todo o link https:// do tuite\n",
        "        list_str = list_to_clean[idx].split()\n",
        "        string = ' '.join([word for word in list_str if not re.search('https://t.co', word)])\n",
        "        #remove acentos\n",
        "        list_to_clean[idx] = re.sub(u'([\\u00C0-\\u00FC])', accent_remove, string.encode().decode('utf-8'))\n",
        "        # remove emojis\n",
        "        string = list_to_clean[idx].encode('ascii', 'ignore').decode('ascii')\n",
        "        list_to_clean[idx] = remove_emoji(string)\n",
        "        # deixa tudo em caixa baixa\n",
        "        list_to_clean[idx] = list_to_clean[idx].lower()\n",
        "        # substitui o restante dos caracteres desnecessarios\n",
        "        string = list_to_clean[idx]\n",
        "        list_to_clean[idx] = re.sub('[…•\\-\\(\\)\\&]', '', string)\n",
        "        string = list_to_clean[idx]\n",
        "        list_to_clean[idx] = re.sub('\\W\\s-', '', string)\n",
        "        string = list_to_clean[idx]\n",
        "        list_to_clean[idx] = re.sub('[\"º°/_]', ' ', string)\n",
        "        # separa pontuações no final das palavras\n",
        "        char = '...'\n",
        "        string = list_to_clean[idx]\n",
        "        res = [i for j in string.split(char) for i in (j, char)][:-1] \n",
        "        list_to_clean[idx] = ' '.join(res)\n",
        "        char = '?'\n",
        "        string = list_to_clean[idx]\n",
        "        res = [i for j in string.split(char) for i in (j, char)][:-1] \n",
        "        list_to_clean[idx] = ' '.join(res) \n",
        "        char = '!'\n",
        "        string = list_to_clean[idx]\n",
        "        res = [i for j in string.split(char) for i in (j, char)][:-1] \n",
        "        list_to_clean[idx] = ' '.join(res)\n",
        "        char = '.'\n",
        "        string = list_to_clean[idx]\n",
        "        res = [i for j in string.split(char) for i in (j, char)][:-1] \n",
        "        list_to_clean[idx] = ' '.join(res)\n",
        "        char = ','\n",
        "        string = list_to_clean[idx]\n",
        "        res = [i for j in string.split(char) for i in (j, char)][:-1] \n",
        "        list_to_clean[idx] = ' '.join(res)\n",
        "        # remove palavras de comprimento menor que 3\n",
        "        string_list = list_to_clean[idx].split() \n",
        "        strings = [x for x in string_list if len(x)>2]\n",
        "        list_to_clean[idx] = ' '.join(strings)\n",
        "        # remove espaços desnecessarios\n",
        "        string_list = list_to_clean[idx].split()\n",
        "        list_to_clean[idx] = ' '.join(string_list)\n",
        "    return list_to_clean"
      ],
      "execution_count": null,
      "outputs": []
    },
    {
      "cell_type": "code",
      "metadata": {
        "colab": {
          "base_uri": "https://localhost:8080/"
        },
        "id": "QvCyCSpB2bhh",
        "outputId": "b217f6bf-51ca-4688-e6ae-300d3258cea6"
      },
      "source": [
        "texts_list = texts.to_list()\n",
        "\n",
        "clean_texts = clean_tts(texts_list)\n",
        "print(clean_texts[:20])"
      ],
      "execution_count": null,
      "outputs": [
        {
          "output_type": "stream",
          "name": "stdout",
          "text": [
            "['catedral santo antonio governador valadares', 'governador valadares minas gerais', 'governador valadares minas gerais', '', 'psol vai questionar aumento vereadores prefeito justica politica estado minas', 'bom bandido morto deputado cabo julio condenado fica inelegivel por anos politica estado minas', '25% dos mineiros dizem nao torcer para time nenhum mesmo dentro estado com atleticomg cruzeiro', 'gigantesca barba mal destaque caderno cultura estado minas', 'governo minas travam disputa sobre depositos judiciais', 'com vcs fica pequena belo horizonte pron [bloizonti][10] capital estado com uma area aproximadamente 331', 'dai gente visita governador valadares que lugar esse mae gente tem uns parente mano onde nao tenho parente', 'bonita bonita #latergram #ibituruna #home governador valadares minas gerais', 'erro desconhecido mato alias secretaria estadual fazenda que assim nao precisa dinheiro nao governador', 'land: cantando estacoes arrasa globo ouro estado minas', 'land: cantando estacoes arrasa globo ouro estado minas', 'los abusos aun estado mas solido son minas sordas que tarde temprano estallan joseph sanialdubay', 'mesmo sem muito dinheiro caixa governo minas gerais compra dois helicopteros dois helicopteros minas gerais #2017', 'modelo seguranca sera nosso legado diz claudio beato politica estado minas', 'modelo seguranca sera nosso legado diz claudio beato politica estado minas', 'modelo seguranca sera nosso legado diz claudio beato politica estado minas']\n"
          ]
        }
      ]
    },
    {
      "cell_type": "code",
      "metadata": {
        "colab": {
          "base_uri": "https://localhost:8080/"
        },
        "id": "IJ1o7IQQ3F8a",
        "outputId": "0527de3d-aaac-4938-fad5-451cc58e00b4"
      },
      "source": [
        "sentiments = sentiments.to_list()\n",
        "\n",
        "print(sentiments[:10])"
      ],
      "execution_count": null,
      "outputs": [
        {
          "output_type": "stream",
          "name": "stdout",
          "text": [
            "[2, 2, 2, 2, 1, 2, 2, 2, 1, 2]\n"
          ]
        }
      ]
    },
    {
      "cell_type": "code",
      "metadata": {
        "colab": {
          "base_uri": "https://localhost:8080/"
        },
        "id": "z7KWPi8d3L1Z",
        "outputId": "1908cea5-5a7c-48dd-f6e5-624209f79b3c"
      },
      "source": [
        "all_text = []\n",
        "for idx, item in enumerate(clean_texts):\n",
        "    string = item\n",
        "\n",
        "    for idx, item in enumerate(string.split(' ')):\n",
        "        all_text.append(item)\n",
        "\n",
        "print(all_text[:100])"
      ],
      "execution_count": null,
      "outputs": [
        {
          "output_type": "stream",
          "name": "stdout",
          "text": [
            "['catedral', 'santo', 'antonio', 'governador', 'valadares', 'governador', 'valadares', 'minas', 'gerais', 'governador', 'valadares', 'minas', 'gerais', '', 'psol', 'vai', 'questionar', 'aumento', 'vereadores', 'prefeito', 'justica', 'politica', 'estado', 'minas', 'bom', 'bandido', 'morto', 'deputado', 'cabo', 'julio', 'condenado', 'fica', 'inelegivel', 'por', 'anos', 'politica', 'estado', 'minas', '25%', 'dos', 'mineiros', 'dizem', 'nao', 'torcer', 'para', 'time', 'nenhum', 'mesmo', 'dentro', 'estado', 'com', 'atleticomg', 'cruzeiro', 'gigantesca', 'barba', 'mal', 'destaque', 'caderno', 'cultura', 'estado', 'minas', 'governo', 'minas', 'travam', 'disputa', 'sobre', 'depositos', 'judiciais', 'com', 'vcs', 'fica', 'pequena', 'belo', 'horizonte', 'pron', '[bloizonti][10]', 'capital', 'estado', 'com', 'uma', 'area', 'aproximadamente', '331', 'dai', 'gente', 'visita', 'governador', 'valadares', 'que', 'lugar', 'esse', 'mae', 'gente', 'tem', 'uns', 'parente', 'mano', 'onde', 'nao', 'tenho']\n"
          ]
        }
      ]
    },
    {
      "cell_type": "code",
      "metadata": {
        "id": "n1qqN7f-3chQ"
      },
      "source": [
        "# Vamos então contar as palavras (para futuras análises - opcional)\n",
        "from collections import Counter\n",
        "\n",
        "counts = Counter(all_text)"
      ],
      "execution_count": null,
      "outputs": []
    },
    {
      "cell_type": "code",
      "metadata": {
        "colab": {
          "base_uri": "https://localhost:8080/"
        },
        "id": "-MaKgs9V3g0d",
        "outputId": "b7aae1a1-48f2-4238-abbd-4c1078d032c5"
      },
      "source": [
        "# E criar um vocabulário, ordenado a partir das palavras mais faladas\n",
        "# Obs.: Este vocabulário é composto de palavras únicas, pois\n",
        "# o método Counter() conta as aparições de cada palavra e\n",
        "# retorna um vocabulário com o número de aparições e as strings\n",
        "vocabulary = sorted(counts, key=counts.get, reverse=True)\n",
        "print(\"Total de palavras em todos os tweets: {}\".format(len(all_text)))\n",
        "print(\"Total de palavras no vocabulario: {}\".format(len(vocabulary)))"
      ],
      "execution_count": null,
      "outputs": [
        {
          "output_type": "stream",
          "name": "stdout",
          "text": [
            "Total de palavras em todos os tweets: 84815\n",
            "Total de palavras no vocabulario: 7226\n"
          ]
        }
      ]
    },
    {
      "cell_type": "code",
      "metadata": {
        "id": "6YswglNP3w3Q"
      },
      "source": [
        "# Criando um novo dicionário, que mapeia cada palavra (a partir da que\n",
        "# mais aparece) em números, começando de 1:\n",
        "vocabulary_to_int = {}\n",
        "int_to_vocabulary = {}\n",
        "for i, word in enumerate(vocabulary, 1):\n",
        "    vocabulary_to_int[word] = i\n",
        "    int_to_vocabulary[i] = word\n",
        "\n",
        "# Forma alternativa, utilizando dict comprehension\n",
        "# vocabulary_to_int = {word: i for i, word in enumerate(vocabulary, 1)}"
      ],
      "execution_count": null,
      "outputs": []
    },
    {
      "cell_type": "code",
      "metadata": {
        "id": "3cmo6dJN32K3"
      },
      "source": [
        "# E agora transformando cada review em números\n",
        "# e 'abusando' das list comprehensions:\n",
        "texts_int = []\n",
        "for review in clean_texts:\n",
        "    texts_int.append([vocabulary_to_int[word] for word in review.split()])"
      ],
      "execution_count": null,
      "outputs": []
    },
    {
      "cell_type": "code",
      "metadata": {
        "colab": {
          "base_uri": "https://localhost:8080/"
        },
        "id": "zb8Y2J_g33TL",
        "outputId": "3f31cdff-fbf2-4b2e-eab5-33cf2a72ec6a"
      },
      "source": [
        "# Conferindo:\n",
        "print(\"Palavras únicas: \", len(vocabulary_to_int))\n",
        "print()\n",
        "print(\"Review em formato token:\\n\", texts_int[3])"
      ],
      "execution_count": null,
      "outputs": [
        {
          "output_type": "stream",
          "name": "stdout",
          "text": [
            "Palavras únicas:  7226\n",
            "\n",
            "Review em formato token:\n",
            " []\n"
          ]
        }
      ]
    },
    {
      "cell_type": "code",
      "metadata": {
        "colab": {
          "base_uri": "https://localhost:8080/"
        },
        "id": "Q5IfjDA64GVE",
        "outputId": "49b58557-6fe5-44aa-b1d7-9462d1eacd59"
      },
      "source": [
        "# E para uso futuro, vamos já deixar o vetor dos labels\n",
        "# de sentimentos pronto. O label da posição x ('encoded_label[x]')\n",
        "# corresponde ao review 'texts_set_int[x]':\n",
        "import numpy as np\n",
        "\n",
        "# Aqui vamos aproveitar para deixar as labels indexadas em 0, para evitar problemas futuros durante o treino da rede\n",
        "encoded_labels = np.array([(int(sentiments[i])-1) for i in range(1,len(sentiments))])\n",
        "                          \n",
        "print(encoded_labels[0])\n",
        "\n",
        "# E os dados de teste codificados:\n",
        "texts_set_int = []\n",
        "for review in texts_int:\n",
        "    texts_set_int.append(review)\n",
        "\n",
        "print()\n",
        "print(texts_set_int[0])"
      ],
      "execution_count": null,
      "outputs": [
        {
          "output_type": "stream",
          "name": "stdout",
          "text": [
            "1\n",
            "\n",
            "[3712, 1822, 2143, 17, 49]\n"
          ]
        }
      ]
    },
    {
      "cell_type": "code",
      "metadata": {
        "colab": {
          "base_uri": "https://localhost:8080/"
        },
        "id": "-gOlokqJ63bE",
        "outputId": "54d93be5-14a5-4293-9be7-ea4c8a995964"
      },
      "source": [
        "# Para conferir se as conversões estão de acordo com o esperado...\n",
        "\n",
        "review_49 = texts_set_int[49] # review em formato token\n",
        "print(review_49)\n",
        "review_49_words = ' '.join([int_to_vocabulary[i] for i in review_49]) # refazendo a conversão\n",
        "print(review_49_words)\n",
        "print()\n",
        "print(sentiments[49])\n",
        "# Obs.: a partir daqui, os dados estão \"shifted\" por uma casa a menos,\n",
        "# isso pq nos dados anteriores tínhamos os cabeçalhos (aquele com os títulos\n",
        "# das colunas em formato string)."
      ],
      "execution_count": null,
      "outputs": [
        {
          "output_type": "stream",
          "name": "stdout",
          "text": [
            "[244, 245, 236, 125, 2708, 9, 3781, 3, 715, 755, 2706, 2707]\n",
            "#beta #betalab #mg nos ultimos dois anos: governo pagou alvos lava jato\n",
            "\n",
            "2\n"
          ]
        }
      ]
    },
    {
      "cell_type": "code",
      "metadata": {
        "colab": {
          "base_uri": "https://localhost:8080/"
        },
        "id": "IQaVWnlw7FL8",
        "outputId": "3470e061-bc93-48a4-e192-8c6872bdeeb9"
      },
      "source": [
        "# Vamos procurar por reviews \"extremos\", aqueles\n",
        "# que podem \"bagunçar\" com o treinamento:\n",
        "\n",
        "tamanho_reviews = Counter([len(x) for x in texts_set_int]) # Dict: {objeto: contagem}\n",
        "print(\"Número total de reviews: {}\".format(len(texts_set_int)))\n",
        "print(\"Quantos reviews de tamanho nulo: {}\".format(tamanho_reviews[0]))\n",
        "print(\"Tamanho máximo de um review: {}\".format(max(tamanho_reviews)))"
      ],
      "execution_count": null,
      "outputs": [
        {
          "output_type": "stream",
          "name": "stdout",
          "text": [
            "Número total de reviews: 8199\n",
            "Quantos reviews de tamanho nulo: 13\n",
            "Tamanho máximo de um review: 22\n"
          ]
        }
      ]
    },
    {
      "cell_type": "code",
      "metadata": {
        "colab": {
          "base_uri": "https://localhost:8080/"
        },
        "id": "UaojaoBE7JSn",
        "outputId": "7aec391e-f4c0-40d9-c17b-a58ea63e475a"
      },
      "source": [
        "print(tamanho_reviews)"
      ],
      "execution_count": null,
      "outputs": [
        {
          "output_type": "stream",
          "name": "stdout",
          "text": [
            "Counter({10: 1149, 11: 1099, 9: 954, 8: 904, 7: 883, 12: 653, 14: 614, 13: 534, 6: 402, 15: 361, 16: 231, 17: 103, 5: 81, 18: 72, 4: 62, 2: 25, 3: 20, 19: 19, 0: 13, 1: 13, 20: 5, 22: 1, 21: 1})\n"
          ]
        }
      ]
    },
    {
      "cell_type": "code",
      "metadata": {
        "id": "ZkDVGxH57LcT"
      },
      "source": [
        "tamanho = sorted([key for key in tamanho_reviews.keys()])\n",
        "numero = [tamanho_reviews[lenght] for lenght in tamanho]"
      ],
      "execution_count": null,
      "outputs": []
    },
    {
      "cell_type": "code",
      "metadata": {
        "colab": {
          "base_uri": "https://localhost:8080/",
          "height": 282
        },
        "id": "cFiS8smr7O6g",
        "outputId": "53914805-8deb-44c7-d84e-254ce0f28b01"
      },
      "source": [
        "import matplotlib.pyplot as plt\n",
        "plt.plot(tamanho, numero)\n",
        "plt.xlabel('Tamanho do tweet de treinamento')\n",
        "plt.ylabel('No. de tweets')\n",
        "plt.show()"
      ],
      "execution_count": null,
      "outputs": [
        {
          "output_type": "display_data",
          "data": {
            "image/png": "[encoded data removed]",
            "text/plain": [
              "<Figure size 432x288 with 1 Axes>"
            ]
          },
          "metadata": {
            "needs_background": "light"
          }
        }
      ]
    },
    {
      "cell_type": "code",
      "metadata": {
        "id": "JchEdxEj7VCm"
      },
      "source": [
        "# Vamos então retirar os reviews de tamanho nulo e os\n",
        "# seus respectivos labels dos reviews:\n",
        "\n",
        "# Pegando os indices dos reviews de tamanho não nulo:\n",
        "non_zero_idx_train = [i for i, review in enumerate(texts_set_int) if len(review) != 0]"
      ],
      "execution_count": null,
      "outputs": []
    },
    {
      "cell_type": "code",
      "metadata": {
        "colab": {
          "base_uri": "https://localhost:8080/"
        },
        "id": "VI4fZbLY7Xwc",
        "outputId": "a64d2d33-9587-46cc-de6a-589890f07dec"
      },
      "source": [
        "# Removendo os reviews nulos e seus labels:\n",
        "train_set_int = [texts_set_int[i] for i in non_zero_idx_train]\n",
        "encoded_labels = np.array([encoded_labels[i] for i,j in enumerate(non_zero_idx_train)])\n",
        "\n",
        "print(\"Número de reviews antes da remoção dos reviews nulos: \", len(texts_set_int))\n",
        "print(\"Número de reviews após a remoção dos reviews nulos: \", len(train_set_int))"
      ],
      "execution_count": null,
      "outputs": [
        {
          "output_type": "stream",
          "name": "stdout",
          "text": [
            "Número de reviews antes da remoção dos reviews nulos:  8199\n",
            "Número de reviews após a remoção dos reviews nulos:  8186\n"
          ]
        }
      ]
    },
    {
      "cell_type": "code",
      "metadata": {
        "colab": {
          "base_uri": "https://localhost:8080/"
        },
        "id": "FdTSidhO7aVV",
        "outputId": "095ab6cd-5f59-47ec-c3d8-42dbcf0cb08c"
      },
      "source": [
        "print(len(encoded_labels))\n",
        "print(len(train_set_int))"
      ],
      "execution_count": null,
      "outputs": [
        {
          "output_type": "stream",
          "name": "stdout",
          "text": [
            "8186\n",
            "8186\n"
          ]
        }
      ]
    },
    {
      "cell_type": "code",
      "metadata": {
        "id": "auV89jF37fIo"
      },
      "source": [
        "def padding_features(review_ints, seq_length):\n",
        "    ''' Retorna vetores (features) dos review_ints contidos\n",
        "        ou preenchidos até o limite de tamanho seq_length\n",
        "    '''\n",
        "    \n",
        "    # Aqui produzimos um vetor com a forma desejada de linhas x colunas:\n",
        "    features = np.zeros((len(review_ints),seq_length), dtype=int)\n",
        "    \n",
        "    # Para cada review:\n",
        "    for i, row in enumerate(review_ints):\n",
        "        features[i, -len(row):] = np.array(row[:seq_length])\n",
        "    \n",
        "    return features"
      ],
      "execution_count": null,
      "outputs": []
    },
    {
      "cell_type": "code",
      "metadata": {
        "colab": {
          "base_uri": "https://localhost:8080/"
        },
        "id": "Ecx0TKns7g3k",
        "outputId": "cf279898-187b-40d0-ba85-6a95560ea819"
      },
      "source": [
        "seq_length = 22\n",
        "features_train = padding_features(train_set_int, seq_length=seq_length)\n",
        "\n",
        "# Para testar o código, podemos usar assert:\n",
        "# assert len(features) == len(train_set_int), \"As features devem ter o número de linhas igual ao numero de reviews\"\n",
        "# assert len(features[0]) == seq_length, \"Cada linha deve ter o mesmo comprimento\"\n",
        "\n",
        "print(features_train[:3])"
      ],
      "execution_count": null,
      "outputs": [
        {
          "output_type": "stream",
          "name": "stdout",
          "text": [
            "[[   0    0    0    0    0    0    0    0    0    0    0    0    0    0\n",
            "     0    0    0 3712 1822 2143   17   49]\n",
            " [   0    0    0    0    0    0    0    0    0    0    0    0    0    0\n",
            "     0    0    0    0   17   49    1    6]\n",
            " [   0    0    0    0    0    0    0    0    0    0    0    0    0    0\n",
            "     0    0    0    0   17   49    1    6]]\n"
          ]
        }
      ]
    },
    {
      "cell_type": "code",
      "metadata": {
        "colab": {
          "base_uri": "https://localhost:8080/"
        },
        "id": "tVjkXGEI7wEu",
        "outputId": "1a73066a-9f0f-4623-802a-a221a34cbc24"
      },
      "source": [
        "!pip install --upgrade tensorflow"
      ],
      "execution_count": null,
      "outputs": [
        {
          "output_type": "stream",
          "name": "stdout",
          "text": [
            "Requirement already satisfied: tensorflow in /usr/local/lib/python3.7/dist-packages (2.7.0)\n",
            "Requirement already satisfied: tensorflow-io-gcs-filesystem>=0.21.0 in /usr/local/lib/python3.7/dist-packages (from tensorflow) (0.22.0)\n",
            "Requirement already satisfied: wheel<1.0,>=0.32.0 in /usr/local/lib/python3.7/dist-packages (from tensorflow) (0.37.0)\n",
            "Requirement already satisfied: astunparse>=1.6.0 in /usr/local/lib/python3.7/dist-packages (from tensorflow) (1.6.3)\n",
            "Requirement already satisfied: keras-preprocessing>=1.1.1 in /usr/local/lib/python3.7/dist-packages (from tensorflow) (1.1.2)\n",
            "Requirement already satisfied: tensorflow-estimator<2.8,~=2.7.0rc0 in /usr/local/lib/python3.7/dist-packages (from tensorflow) (2.7.0)\n",
            "Requirement already satisfied: typing-extensions>=3.6.6 in /usr/local/lib/python3.7/dist-packages (from tensorflow) (3.10.0.2)\n",
            "Requirement already satisfied: wrapt>=1.11.0 in /usr/local/lib/python3.7/dist-packages (from tensorflow) (1.13.3)\n",
            "Requirement already satisfied: grpcio<2.0,>=1.24.3 in /usr/local/lib/python3.7/dist-packages (from tensorflow) (1.42.0)\n",
            "Requirement already satisfied: six>=1.12.0 in /usr/local/lib/python3.7/dist-packages (from tensorflow) (1.15.0)\n",
            "Requirement already satisfied: termcolor>=1.1.0 in /usr/local/lib/python3.7/dist-packages (from tensorflow) (1.1.0)\n",
            "Requirement already satisfied: flatbuffers<3.0,>=1.12 in /usr/local/lib/python3.7/dist-packages (from tensorflow) (2.0)\n",
            "Requirement already satisfied: absl-py>=0.4.0 in /usr/local/lib/python3.7/dist-packages (from tensorflow) (0.12.0)\n",
            "Requirement already satisfied: keras<2.8,>=2.7.0rc0 in /usr/local/lib/python3.7/dist-packages (from tensorflow) (2.7.0)\n",
            "Requirement already satisfied: numpy>=1.14.5 in /usr/local/lib/python3.7/dist-packages (from tensorflow) (1.19.5)\n",
            "Requirement already satisfied: tensorboard~=2.6 in /usr/local/lib/python3.7/dist-packages (from tensorflow) (2.7.0)\n",
            "Requirement already satisfied: h5py>=2.9.0 in /usr/local/lib/python3.7/dist-packages (from tensorflow) (3.1.0)\n",
            "Requirement already satisfied: protobuf>=3.9.2 in /usr/local/lib/python3.7/dist-packages (from tensorflow) (3.17.3)\n",
            "Requirement already satisfied: libclang>=9.0.1 in /usr/local/lib/python3.7/dist-packages (from tensorflow) (12.0.0)\n",
            "Requirement already satisfied: opt-einsum>=2.3.2 in /usr/local/lib/python3.7/dist-packages (from tensorflow) (3.3.0)\n",
            "Requirement already satisfied: google-pasta>=0.1.1 in /usr/local/lib/python3.7/dist-packages (from tensorflow) (0.2.0)\n",
            "Requirement already satisfied: gast<0.5.0,>=0.2.1 in /usr/local/lib/python3.7/dist-packages (from tensorflow) (0.4.0)\n",
            "Requirement already satisfied: cached-property in /usr/local/lib/python3.7/dist-packages (from h5py>=2.9.0->tensorflow) (1.5.2)\n",
            "Requirement already satisfied: tensorboard-data-server<0.7.0,>=0.6.0 in /usr/local/lib/python3.7/dist-packages (from tensorboard~=2.6->tensorflow) (0.6.1)\n",
            "Requirement already satisfied: google-auth-oauthlib<0.5,>=0.4.1 in /usr/local/lib/python3.7/dist-packages (from tensorboard~=2.6->tensorflow) (0.4.6)\n",
            "Requirement already satisfied: werkzeug>=0.11.15 in /usr/local/lib/python3.7/dist-packages (from tensorboard~=2.6->tensorflow) (1.0.1)\n",
            "Requirement already satisfied: google-auth<3,>=1.6.3 in /usr/local/lib/python3.7/dist-packages (from tensorboard~=2.6->tensorflow) (1.35.0)\n",
            "Requirement already satisfied: markdown>=2.6.8 in /usr/local/lib/python3.7/dist-packages (from tensorboard~=2.6->tensorflow) (3.3.6)\n",
            "Requirement already satisfied: setuptools>=41.0.0 in /usr/local/lib/python3.7/dist-packages (from tensorboard~=2.6->tensorflow) (57.4.0)\n",
            "Requirement already satisfied: tensorboard-plugin-wit>=1.6.0 in /usr/local/lib/python3.7/dist-packages (from tensorboard~=2.6->tensorflow) (1.8.0)\n",
            "Requirement already satisfied: requests<3,>=2.21.0 in /usr/local/lib/python3.7/dist-packages (from tensorboard~=2.6->tensorflow) (2.23.0)\n",
            "Requirement already satisfied: cachetools<5.0,>=2.0.0 in /usr/local/lib/python3.7/dist-packages (from google-auth<3,>=1.6.3->tensorboard~=2.6->tensorflow) (4.2.4)\n",
            "Requirement already satisfied: pyasn1-modules>=0.2.1 in /usr/local/lib/python3.7/dist-packages (from google-auth<3,>=1.6.3->tensorboard~=2.6->tensorflow) (0.2.8)\n",
            "Requirement already satisfied: rsa<5,>=3.1.4 in /usr/local/lib/python3.7/dist-packages (from google-auth<3,>=1.6.3->tensorboard~=2.6->tensorflow) (4.8)\n",
            "Requirement already satisfied: requests-oauthlib>=0.7.0 in /usr/local/lib/python3.7/dist-packages (from google-auth-oauthlib<0.5,>=0.4.1->tensorboard~=2.6->tensorflow) (1.3.0)\n",
            "Requirement already satisfied: importlib-metadata>=4.4 in /usr/local/lib/python3.7/dist-packages (from markdown>=2.6.8->tensorboard~=2.6->tensorflow) (4.8.2)\n",
            "Requirement already satisfied: zipp>=0.5 in /usr/local/lib/python3.7/dist-packages (from importlib-metadata>=4.4->markdown>=2.6.8->tensorboard~=2.6->tensorflow) (3.6.0)\n",
            "Requirement already satisfied: pyasn1<0.5.0,>=0.4.6 in /usr/local/lib/python3.7/dist-packages (from pyasn1-modules>=0.2.1->google-auth<3,>=1.6.3->tensorboard~=2.6->tensorflow) (0.4.8)\n",
            "Requirement already satisfied: urllib3!=1.25.0,!=1.25.1,<1.26,>=1.21.1 in /usr/local/lib/python3.7/dist-packages (from requests<3,>=2.21.0->tensorboard~=2.6->tensorflow) (1.24.3)\n",
            "Requirement already satisfied: certifi>=2017.4.17 in /usr/local/lib/python3.7/dist-packages (from requests<3,>=2.21.0->tensorboard~=2.6->tensorflow) (2021.10.8)\n",
            "Requirement already satisfied: chardet<4,>=3.0.2 in /usr/local/lib/python3.7/dist-packages (from requests<3,>=2.21.0->tensorboard~=2.6->tensorflow) (3.0.4)\n",
            "Requirement already satisfied: idna<3,>=2.5 in /usr/local/lib/python3.7/dist-packages (from requests<3,>=2.21.0->tensorboard~=2.6->tensorflow) (2.10)\n",
            "Requirement already satisfied: oauthlib>=3.0.0 in /usr/local/lib/python3.7/dist-packages (from requests-oauthlib>=0.7.0->google-auth-oauthlib<0.5,>=0.4.1->tensorboard~=2.6->tensorflow) (3.1.1)\n"
          ]
        }
      ]
    },
    {
      "cell_type": "code",
      "metadata": {
        "colab": {
          "base_uri": "https://localhost:8080/"
        },
        "id": "WC24Qowx_2tz",
        "outputId": "78314434-ea45-48a7-9b81-8845fdab039b"
      },
      "source": [
        "!pip install keras.utils"
      ],
      "execution_count": null,
      "outputs": [
        {
          "output_type": "stream",
          "name": "stdout",
          "text": [
            "Collecting keras.utils\n",
            "  Downloading keras-utils-1.0.13.tar.gz (2.4 kB)\n",
            "Requirement already satisfied: Keras>=2.1.5 in /usr/local/lib/python3.7/dist-packages (from keras.utils) (2.7.0)\n",
            "Building wheels for collected packages: keras.utils\n",
            "  Building wheel for keras.utils (setup.py) ... \u001b[?25l\u001b[?25hdone\n",
            "  Created wheel for keras.utils: filename=keras_utils-1.0.13-py3-none-any.whl size=2656 sha256=1616093fa2ca0706a079311471728f4a096ad880d14454bc8d82b998e49de573\n",
            "  Stored in directory: /root/.cache/pip/wheels/d0/dd/3b/493952a5240d486a83805d65360dedadbadeae71d25e2c877f\n",
            "Successfully built keras.utils\n",
            "Installing collected packages: keras.utils\n",
            "Successfully installed keras.utils-1.0.13\n"
          ]
        }
      ]
    },
    {
      "cell_type": "code",
      "metadata": {
        "id": "AhAZEVNu7lE2"
      },
      "source": [
        "seed = 42\n",
        "\n",
        "import random\n",
        "import numpy as np\n",
        "import tensorflow \n",
        "\n",
        "random.seed(seed)\n",
        "np.random.seed(seed)\n",
        "tensorflow.random.set_seed(seed)\n",
        "\n",
        "from keras.preprocessing import sequence,text\n",
        "from keras.preprocessing.sequence import pad_sequences\n",
        "from keras.preprocessing.text import Tokenizer\n",
        "from keras.models import Sequential\n",
        "from keras.layers import Dense,Dropout,Embedding,LSTM,Conv1D,GlobalMaxPooling1D,Flatten,MaxPooling1D,GRU,SpatialDropout1D,Bidirectional\n",
        "from keras.callbacks import EarlyStopping\n",
        "from tensorflow.keras.utils import to_categorical\n",
        "from keras.losses import categorical_crossentropy\n",
        "from tensorflow.keras.optimizers import Adam\n",
        "from sklearn.model_selection import train_test_split\n",
        "from sklearn.metrics import accuracy_score, average_precision_score, f1_score, confusion_matrix, recall_score, precision_score"
      ],
      "execution_count": null,
      "outputs": []
    },
    {
      "cell_type": "code",
      "metadata": {
        "id": "j7XhlQZ3AdUM"
      },
      "source": [
        "import re\n",
        "def del_num(string):\n",
        "    string = str(string)\n",
        "    string = string.lower()\n",
        "    string = re.sub('\\W+\\s', '', string)\n",
        "    string = re.sub('\\d+', '', string)\n",
        "    string = re.sub('[\\(\\)/:*.-]', ' ', string)\n",
        "    string = string.split()\n",
        "    new_string = [i for i in string if len(i) > 2]\n",
        "    string = ' '.join(new_string)\n",
        "    return string"
      ],
      "execution_count": null,
      "outputs": []
    },
    {
      "cell_type": "code",
      "metadata": {
        "id": "vhRenDdPAgLS"
      },
      "source": [
        "### SELECIONANDO OS DADOS DE TREINAMENTO E AS LABELS ###\n",
        "x = df['Text'].apply(del_num)\n",
        "y = df['Sentiments'].apply(lambda x: x-1)"
      ],
      "execution_count": null,
      "outputs": []
    },
    {
      "cell_type": "code",
      "metadata": {
        "colab": {
          "base_uri": "https://localhost:8080/"
        },
        "id": "dVxtDvfRA4lg",
        "outputId": "22f5160a-7faa-4469-f45f-27bac02ad1bd"
      },
      "source": [
        "# Aqui eu já indexei os sentimentos em 0 (0 - negativo, 1- neutro, 2- positivo)\n",
        "print(\"Tweet: \", x[1],\"\\nSentiment: \", y[1])"
      ],
      "execution_count": null,
      "outputs": [
        {
          "output_type": "stream",
          "name": "stdout",
          "text": [
            "Tweet:  governador valadaresminas gerais https bthidjcsf \n",
            "Sentiment:  1\n"
          ]
        }
      ]
    },
    {
      "cell_type": "code",
      "metadata": {
        "id": "Ey_Xy25IA6_2"
      },
      "source": [
        "x_train, x_test, y_train, y_test = train_test_split(x, y, test_size=0.2, random_state = 0, shuffle=True)"
      ],
      "execution_count": null,
      "outputs": []
    },
    {
      "cell_type": "code",
      "metadata": {
        "colab": {
          "base_uri": "https://localhost:8080/",
          "height": 403
        },
        "id": "P9aE9pnfA8tb",
        "outputId": "cb22c941-8446-4316-da49-3198d257759d"
      },
      "source": [
        "### VERIFICANDO O BALANCEAMENTO DE CADA CLASSE DE INTERESSE ###\n",
        "sns.countplot(y)\n",
        "y.value_counts()"
      ],
      "execution_count": null,
      "outputs": [
        {
          "output_type": "stream",
          "name": "stderr",
          "text": [
            "/usr/local/lib/python3.7/dist-packages/seaborn/_decorators.py:43: FutureWarning: Pass the following variable as a keyword arg: x. From version 0.12, the only valid positional argument will be `data`, and passing other arguments without an explicit keyword will result in an error or misinterpretation.\n",
            "  FutureWarning\n"
          ]
        },
        {
          "output_type": "execute_result",
          "data": {
            "text/plain": [
              "2    3300\n",
              "1    2453\n",
              "0    2446\n",
              "Name: Sentiments, dtype: int64"
            ]
          },
          "metadata": {},
          "execution_count": 120
        },
        {
          "output_type": "display_data",
          "data": {
            "image/png": "[encoded data removed]",
            "text/plain": [
              "<Figure size 432x288 with 1 Axes>"
            ]
          },
          "metadata": {
            "needs_background": "light"
          }
        }
      ]
    },
    {
      "cell_type": "code",
      "metadata": {
        "colab": {
          "base_uri": "https://localhost:8080/",
          "height": 206
        },
        "id": "-4BZKbUdBA35",
        "outputId": "75d7770c-f4b6-4684-f6c7-9917d4ac6dd6"
      },
      "source": [
        "from sklearn.utils import resample\n",
        "\n",
        "X = pd.concat([x_train, y_train], axis=1)\n",
        "X.head()"
      ],
      "execution_count": null,
      "outputs": [
        {
          "output_type": "execute_result",
          "data": {
            "text/html": [
              "<div>\n",
              "<style scoped>\n",
              "    .dataframe tbody tr th:only-of-type {\n",
              "        vertical-align: middle;\n",
              "    }\n",
              "\n",
              "    .dataframe tbody tr th {\n",
              "        vertical-align: top;\n",
              "    }\n",
              "\n",
              "    .dataframe thead th {\n",
              "        text-align: right;\n",
              "    }\n",
              "</style>\n",
              "<table border=\"1\" class=\"dataframe\">\n",
              "  <thead>\n",
              "    <tr style=\"text-align: right;\">\n",
              "      <th></th>\n",
              "      <th>Text</th>\n",
              "      <th>Sentiments</th>\n",
              "    </tr>\n",
              "  </thead>\n",
              "  <tbody>\n",
              "    <tr>\n",
              "      <th>3977</th>\n",
              "      <td>@panichiraphaelestá ruim para estado minas ger...</td>\n",
              "      <td>0</td>\n",
              "    </tr>\n",
              "    <tr>\n",
              "      <th>2190</th>\n",
              "      <td>risco calote estados com união crescepoliticae...</td>\n",
              "      <td>1</td>\n",
              "    </tr>\n",
              "    <tr>\n",
              "      <th>4958</th>\n",
              "      <td>vereadores governador valadares não terão salá...</td>\n",
              "      <td>1</td>\n",
              "    </tr>\n",
              "    <tr>\n",
              "      <th>4740</th>\n",
              "      <td>secretaria governo minas orienta novos prefeit...</td>\n",
              "      <td>1</td>\n",
              "    </tr>\n",
              "    <tr>\n",
              "      <th>2658</th>\n",
              "      <td>@ary_antiptescarniogovernador fernando acronim...</td>\n",
              "      <td>0</td>\n",
              "    </tr>\n",
              "  </tbody>\n",
              "</table>\n",
              "</div>"
            ],
            "text/plain": [
              "                                                   Text  Sentiments\n",
              "3977  @panichiraphaelestá ruim para estado minas ger...           0\n",
              "2190  risco calote estados com união crescepoliticae...           1\n",
              "4958  vereadores governador valadares não terão salá...           1\n",
              "4740  secretaria governo minas orienta novos prefeit...           1\n",
              "2658  @ary_antiptescarniogovernador fernando acronim...           0"
            ]
          },
          "metadata": {},
          "execution_count": 121
        }
      ]
    },
    {
      "cell_type": "code",
      "metadata": {
        "id": "EyZQZex1BDfF"
      },
      "source": [
        "category0 = X[X.Sentiments==0]\n",
        "category1 = X[X.Sentiments==1]\n",
        "category2 = X[X.Sentiments==2]"
      ],
      "execution_count": null,
      "outputs": []
    },
    {
      "cell_type": "code",
      "metadata": {
        "id": "25QsaYauBP3F"
      },
      "source": [
        "number=len(category1)\n",
        "category0_upsampled = resample(category0,\n",
        "                          replace=True,\n",
        "                          n_samples=number,\n",
        "                          random_state=1)\n",
        "category1_upsampled = resample(category1,\n",
        "                          replace=True,\n",
        "                          n_samples=number,\n",
        "                          random_state=1)\n",
        "category2_upsampled = resample(category2,\n",
        "                          replace=True,\n",
        "                          n_samples=number,\n",
        "                          random_state=1)"
      ],
      "execution_count": null,
      "outputs": []
    },
    {
      "cell_type": "code",
      "metadata": {
        "id": "RdXBiTN9BRxA"
      },
      "source": [
        "resampled_data = pd.concat([category0_upsampled, category1_upsampled, category2_upsampled])"
      ],
      "execution_count": null,
      "outputs": []
    },
    {
      "cell_type": "code",
      "metadata": {
        "colab": {
          "base_uri": "https://localhost:8080/"
        },
        "id": "KYUIXfYCBUFg",
        "outputId": "9a191295-5293-403c-a707-c61f006e4992"
      },
      "source": [
        "resampled_data.Sentiments.value_counts()"
      ],
      "execution_count": null,
      "outputs": [
        {
          "output_type": "execute_result",
          "data": {
            "text/plain": [
              "2    1952\n",
              "1    1952\n",
              "0    1952\n",
              "Name: Sentiments, dtype: int64"
            ]
          },
          "metadata": {},
          "execution_count": 127
        }
      ]
    },
    {
      "cell_type": "code",
      "metadata": {
        "id": "UblODHwfBZCw"
      },
      "source": [
        "x_train = resampled_data['Text']\n",
        "y_train = resampled_data['Sentiments']"
      ],
      "execution_count": null,
      "outputs": []
    },
    {
      "cell_type": "code",
      "metadata": {
        "colab": {
          "base_uri": "https://localhost:8080/",
          "height": 351
        },
        "id": "CWxwssxyBfwZ",
        "outputId": "a46c532f-f6af-4634-889a-70a1f38d94de"
      },
      "source": [
        "sns.countplot(y_train)"
      ],
      "execution_count": null,
      "outputs": [
        {
          "output_type": "stream",
          "name": "stderr",
          "text": [
            "/usr/local/lib/python3.7/dist-packages/seaborn/_decorators.py:43: FutureWarning: Pass the following variable as a keyword arg: x. From version 0.12, the only valid positional argument will be `data`, and passing other arguments without an explicit keyword will result in an error or misinterpretation.\n",
            "  FutureWarning\n"
          ]
        },
        {
          "output_type": "execute_result",
          "data": {
            "text/plain": [
              "<matplotlib.axes._subplots.AxesSubplot at 0x7fe1001d0ad0>"
            ]
          },
          "metadata": {},
          "execution_count": 130
        },
        {
          "output_type": "display_data",
          "data": {
            "image/png": "[encoded data removed]",
            "text/plain": [
              "<Figure size 432x288 with 1 Axes>"
            ]
          },
          "metadata": {
            "needs_background": "light"
          }
        }
      ]
    },
    {
      "cell_type": "code",
      "metadata": {
        "id": "4GhKnZVOBhlc"
      },
      "source": [
        "tam_vocab = len(vocabulary)\n",
        "tokenizer = Tokenizer(num_words=tam_vocab)\n",
        "tokenizer.fit_on_texts(list(x_train))\n",
        "tokenizer.fit_on_texts(list(x_test))"
      ],
      "execution_count": null,
      "outputs": []
    },
    {
      "cell_type": "code",
      "metadata": {
        "colab": {
          "base_uri": "https://localhost:8080/"
        },
        "id": "9JYGj-HOBjSG",
        "outputId": "06c3eb30-4661-410b-c33f-3798bafa9762"
      },
      "source": [
        "X_train = tokenizer.texts_to_sequences(x_train)\n",
        "X_test = tokenizer.texts_to_sequences(x_test)\n",
        "X_train = pad_sequences(X_train, maxlen=22)\n",
        "X_test = pad_sequences(X_test, maxlen=22)\n",
        "print(len(X_train))\n",
        "X_train[:5]"
      ],
      "execution_count": null,
      "outputs": [
        {
          "output_type": "stream",
          "name": "stdout",
          "text": [
            "5856\n"
          ]
        },
        {
          "output_type": "execute_result",
          "data": {
            "text/plain": [
              "array([[   0,    0,    0,    0,    0,    0,    0, 1068, 1069,   38, 1881,\n",
              "           2,   11, 1274, 1275, 1161,    3,  102, 1276,   32, 1609, 2399],\n",
              "       [   0,    0,    0,    0,    0,    0,    0,    0,    0,    0,    0,\n",
              "           0,    0, 3412, 1882,    2,   11,    7,   10,    9,   57, 3413],\n",
              "       [   0,    0,    0,    0,    0,    0,    0,    0,    0,    0,    0,\n",
              "           0,    0,   87,   52,   49,    7,   10,    9,    5,    1,   88],\n",
              "       [   0,    0,    0,    0,    0,    0,    0,    0,    6,    8,  239,\n",
              "          35,   30,    4,    2,   13,   18,   32,    1, 5384,    1, 5385],\n",
              "       [   0,    0,    0,    0,    0,    0,    0,    0,    0,    0,    0,\n",
              "         806,   16,   96,  298,    2,  193,  299,   16,    5,    1, 5386]],\n",
              "      dtype=int32)"
            ]
          },
          "metadata": {},
          "execution_count": 132
        }
      ]
    },
    {
      "cell_type": "code",
      "metadata": {
        "colab": {
          "base_uri": "https://localhost:8080/"
        },
        "id": "GoQGal5FBk6G",
        "outputId": "9dc938f0-75fd-4092-939f-36032395b272"
      },
      "source": [
        "Y_train = to_categorical(y_train.values)\n",
        "print(len(Y_train))\n",
        "Y_train.shape"
      ],
      "execution_count": null,
      "outputs": [
        {
          "output_type": "stream",
          "name": "stdout",
          "text": [
            "5856\n"
          ]
        },
        {
          "output_type": "execute_result",
          "data": {
            "text/plain": [
              "(5856, 3)"
            ]
          },
          "metadata": {},
          "execution_count": 133
        }
      ]
    },
    {
      "cell_type": "code",
      "metadata": {
        "colab": {
          "base_uri": "https://localhost:8080/"
        },
        "id": "yRxHg_k8Bmni",
        "outputId": "c7c435c2-17ed-4c00-b2a5-3720d67c11d4"
      },
      "source": [
        "print(X_train.shape, Y_train.shape, X_test.shape, y_test.shape)"
      ],
      "execution_count": null,
      "outputs": [
        {
          "output_type": "stream",
          "name": "stdout",
          "text": [
            "(5856, 22) (5856, 3) (1640, 22) (1640,)\n"
          ]
        }
      ]
    },
    {
      "cell_type": "code",
      "metadata": {
        "id": "6p8BLD1bBoWe"
      },
      "source": [
        "train_x, val_x, train_y, val_y = train_test_split(X_train, Y_train, test_size=0.2)"
      ],
      "execution_count": null,
      "outputs": []
    },
    {
      "cell_type": "code",
      "metadata": {
        "id": "jF5ZQVlkBp0E"
      },
      "source": [
        "max_features = len(vocabulary)"
      ],
      "execution_count": null,
      "outputs": []
    },
    {
      "cell_type": "code",
      "metadata": {
        "colab": {
          "base_uri": "https://localhost:8080/"
        },
        "id": "fk2L9Wq9BrXI",
        "outputId": "6682e7b4-e068-48a5-c36e-ffb10bf12df4"
      },
      "source": [
        "model=Sequential()\n",
        "model.add(Embedding(max_features,512,mask_zero=True))\n",
        "model.add(LSTM(256,dropout=0.4, recurrent_dropout=0.4,return_sequences=True))\n",
        "model.add(LSTM(512,dropout=0.5, recurrent_dropout=0.5,return_sequences=False))\n",
        "model.add(Dense(3,activation='softmax'))\n",
        "model.compile(loss='categorical_crossentropy',optimizer=Adam(lr=0.0001),metrics=['accuracy'])\n",
        "model.summary()"
      ],
      "execution_count": null,
      "outputs": [
        {
          "output_type": "stream",
          "name": "stdout",
          "text": [
            "Model: \"sequential\"\n",
            "_________________________________________________________________\n",
            " Layer (type)                Output Shape              Param #   \n",
            "=================================================================\n",
            " embedding (Embedding)       (None, None, 512)         3699712   \n",
            "                                                                 \n",
            " lstm (LSTM)                 (None, None, 256)         787456    \n",
            "                                                                 \n",
            " lstm_1 (LSTM)               (None, 512)               1574912   \n",
            "                                                                 \n",
            " dense (Dense)               (None, 3)                 1539      \n",
            "                                                                 \n",
            "=================================================================\n",
            "Total params: 6,063,619\n",
            "Trainable params: 6,063,619\n",
            "Non-trainable params: 0\n",
            "_________________________________________________________________\n"
          ]
        },
        {
          "output_type": "stream",
          "name": "stderr",
          "text": [
            "/usr/local/lib/python3.7/dist-packages/keras/optimizer_v2/adam.py:105: UserWarning: The `lr` argument is deprecated, use `learning_rate` instead.\n",
            "  super(Adam, self).__init__(name, **kwargs)\n"
          ]
        }
      ]
    },
    {
      "cell_type": "code",
      "metadata": {
        "colab": {
          "base_uri": "https://localhost:8080/"
        },
        "id": "DEaOtZ7_Byz3",
        "outputId": "f197ece0-7422-45bf-a139-adfdafa1ac88"
      },
      "source": [
        "epochs = 50\n",
        "batch_size = 128\n",
        "\n",
        "model.compile(loss='categorical_crossentropy', optimizer='adam', metrics=['accuracy'])\n",
        "model.fit(train_x, train_y, validation_data=(val_x, val_y), epochs=epochs, batch_size=batch_size, verbose=1)"
      ],
      "execution_count": null,
      "outputs": [
        {
          "output_type": "stream",
          "name": "stdout",
          "text": [
            "Epoch 1/50\n",
            "37/37 [==============================] - 50s 1s/step - loss: 0.4170 - accuracy: 0.8542 - val_loss: 0.1189 - val_accuracy: 0.9573\n",
            "Epoch 2/50\n",
            "37/37 [==============================] - 45s 1s/step - loss: 0.0585 - accuracy: 0.9853 - val_loss: 0.1276 - val_accuracy: 0.9710\n",
            "Epoch 3/50\n",
            "37/37 [==============================] - 45s 1s/step - loss: 0.0165 - accuracy: 0.9953 - val_loss: 0.1414 - val_accuracy: 0.9710\n",
            "Epoch 4/50\n",
            "37/37 [==============================] - 45s 1s/step - loss: 0.0070 - accuracy: 0.9981 - val_loss: 0.1936 - val_accuracy: 0.9718\n",
            "Epoch 5/50\n",
            "37/37 [==============================] - 45s 1s/step - loss: 0.0033 - accuracy: 0.9989 - val_loss: 0.2237 - val_accuracy: 0.9727\n",
            "Epoch 6/50\n",
            "37/37 [==============================] - 45s 1s/step - loss: 0.0019 - accuracy: 0.9998 - val_loss: 0.2425 - val_accuracy: 0.9727\n",
            "Epoch 7/50\n",
            "37/37 [==============================] - 45s 1s/step - loss: 0.0034 - accuracy: 0.9991 - val_loss: 0.2647 - val_accuracy: 0.9753\n",
            "Epoch 8/50\n",
            "37/37 [==============================] - 45s 1s/step - loss: 0.0200 - accuracy: 0.9951 - val_loss: 0.2535 - val_accuracy: 0.9701\n",
            "Epoch 9/50\n",
            "37/37 [==============================] - 44s 1s/step - loss: 0.0056 - accuracy: 0.9987 - val_loss: 0.1589 - val_accuracy: 0.9701\n",
            "Epoch 10/50\n",
            "37/37 [==============================] - 44s 1s/step - loss: 0.0082 - accuracy: 0.9972 - val_loss: 0.2206 - val_accuracy: 0.9744\n",
            "Epoch 11/50\n",
            "37/37 [==============================] - 45s 1s/step - loss: 0.0026 - accuracy: 0.9994 - val_loss: 0.2238 - val_accuracy: 0.9744\n",
            "Epoch 12/50\n",
            "37/37 [==============================] - 45s 1s/step - loss: 0.0017 - accuracy: 0.9996 - val_loss: 0.2136 - val_accuracy: 0.9735\n",
            "Epoch 13/50\n",
            "37/37 [==============================] - 45s 1s/step - loss: 9.3913e-04 - accuracy: 0.9998 - val_loss: 0.2310 - val_accuracy: 0.9735\n",
            "Epoch 14/50\n",
            "37/37 [==============================] - 45s 1s/step - loss: 8.1568e-04 - accuracy: 0.9998 - val_loss: 0.2412 - val_accuracy: 0.9735\n",
            "Epoch 15/50\n",
            "37/37 [==============================] - 45s 1s/step - loss: 7.9557e-04 - accuracy: 0.9998 - val_loss: 0.2446 - val_accuracy: 0.9735\n",
            "Epoch 16/50\n",
            "37/37 [==============================] - 45s 1s/step - loss: 7.2325e-04 - accuracy: 0.9998 - val_loss: 0.2479 - val_accuracy: 0.9735\n",
            "Epoch 17/50\n",
            "37/37 [==============================] - 45s 1s/step - loss: 8.2523e-04 - accuracy: 0.9998 - val_loss: 0.2140 - val_accuracy: 0.9693\n",
            "Epoch 18/50\n",
            "37/37 [==============================] - 44s 1s/step - loss: 0.0022 - accuracy: 0.9991 - val_loss: 0.2369 - val_accuracy: 0.9684\n",
            "Epoch 19/50\n",
            "37/37 [==============================] - 45s 1s/step - loss: 0.0019 - accuracy: 0.9996 - val_loss: 0.2312 - val_accuracy: 0.9693\n",
            "Epoch 20/50\n",
            "37/37 [==============================] - 45s 1s/step - loss: 0.0012 - accuracy: 0.9996 - val_loss: 0.2126 - val_accuracy: 0.9727\n",
            "Epoch 21/50\n",
            "37/37 [==============================] - 45s 1s/step - loss: 7.6680e-04 - accuracy: 0.9998 - val_loss: 0.2243 - val_accuracy: 0.9718\n",
            "Epoch 22/50\n",
            "37/37 [==============================] - 44s 1s/step - loss: 6.5685e-04 - accuracy: 0.9998 - val_loss: 0.2317 - val_accuracy: 0.9718\n",
            "Epoch 23/50\n",
            "37/37 [==============================] - 44s 1s/step - loss: 6.2950e-04 - accuracy: 0.9998 - val_loss: 0.2343 - val_accuracy: 0.9710\n",
            "Epoch 24/50\n",
            "37/37 [==============================] - 44s 1s/step - loss: 6.6510e-04 - accuracy: 0.9998 - val_loss: 0.2392 - val_accuracy: 0.9710\n",
            "Epoch 25/50\n",
            "37/37 [==============================] - 44s 1s/step - loss: 5.5715e-04 - accuracy: 0.9998 - val_loss: 0.2456 - val_accuracy: 0.9701\n",
            "Epoch 26/50\n",
            "37/37 [==============================] - 45s 1s/step - loss: 6.2765e-04 - accuracy: 0.9998 - val_loss: 0.2488 - val_accuracy: 0.9710\n",
            "Epoch 27/50\n",
            "37/37 [==============================] - 44s 1s/step - loss: 6.8523e-04 - accuracy: 0.9998 - val_loss: 0.2539 - val_accuracy: 0.9701\n",
            "Epoch 28/50\n",
            "37/37 [==============================] - 44s 1s/step - loss: 5.3984e-04 - accuracy: 0.9998 - val_loss: 0.2568 - val_accuracy: 0.9701\n",
            "Epoch 29/50\n",
            "37/37 [==============================] - 44s 1s/step - loss: 5.6189e-04 - accuracy: 0.9998 - val_loss: 0.2599 - val_accuracy: 0.9693\n",
            "Epoch 30/50\n",
            "37/37 [==============================] - 44s 1s/step - loss: 5.9316e-04 - accuracy: 0.9998 - val_loss: 0.2633 - val_accuracy: 0.9693\n",
            "Epoch 31/50\n",
            "37/37 [==============================] - 44s 1s/step - loss: 4.2453e-04 - accuracy: 0.9998 - val_loss: 0.2678 - val_accuracy: 0.9684\n",
            "Epoch 32/50\n",
            "37/37 [==============================] - 44s 1s/step - loss: 5.7041e-04 - accuracy: 0.9998 - val_loss: 0.2716 - val_accuracy: 0.9684\n",
            "Epoch 33/50\n",
            "37/37 [==============================] - 44s 1s/step - loss: 4.6838e-04 - accuracy: 0.9998 - val_loss: 0.2755 - val_accuracy: 0.9684\n",
            "Epoch 34/50\n",
            "37/37 [==============================] - 44s 1s/step - loss: 6.2792e-04 - accuracy: 0.9998 - val_loss: 0.2773 - val_accuracy: 0.9701\n",
            "Epoch 35/50\n",
            "37/37 [==============================] - 44s 1s/step - loss: 6.4714e-04 - accuracy: 0.9998 - val_loss: 0.2778 - val_accuracy: 0.9684\n",
            "Epoch 36/50\n",
            "37/37 [==============================] - 44s 1s/step - loss: 5.4136e-04 - accuracy: 0.9998 - val_loss: 0.2814 - val_accuracy: 0.9676\n",
            "Epoch 37/50\n",
            "37/37 [==============================] - 44s 1s/step - loss: 4.9824e-04 - accuracy: 0.9998 - val_loss: 0.2827 - val_accuracy: 0.9684\n",
            "Epoch 38/50\n",
            "37/37 [==============================] - 45s 1s/step - loss: 5.7055e-04 - accuracy: 0.9998 - val_loss: 0.2849 - val_accuracy: 0.9684\n",
            "Epoch 39/50\n",
            "37/37 [==============================] - 45s 1s/step - loss: 6.0693e-04 - accuracy: 0.9998 - val_loss: 0.2885 - val_accuracy: 0.9693\n",
            "Epoch 40/50\n",
            "37/37 [==============================] - 45s 1s/step - loss: 6.8137e-04 - accuracy: 0.9998 - val_loss: 0.2908 - val_accuracy: 0.9693\n",
            "Epoch 41/50\n",
            "37/37 [==============================] - 44s 1s/step - loss: 5.6150e-04 - accuracy: 0.9998 - val_loss: 0.2903 - val_accuracy: 0.9684\n",
            "Epoch 42/50\n",
            "37/37 [==============================] - 45s 1s/step - loss: 5.7410e-04 - accuracy: 0.9998 - val_loss: 0.2941 - val_accuracy: 0.9684\n",
            "Epoch 43/50\n",
            "37/37 [==============================] - 45s 1s/step - loss: 5.0356e-04 - accuracy: 0.9998 - val_loss: 0.2962 - val_accuracy: 0.9684\n",
            "Epoch 44/50\n",
            "37/37 [==============================] - 44s 1s/step - loss: 4.9618e-04 - accuracy: 0.9998 - val_loss: 0.2974 - val_accuracy: 0.9684\n",
            "Epoch 45/50\n",
            "37/37 [==============================] - 45s 1s/step - loss: 4.6406e-04 - accuracy: 0.9998 - val_loss: 0.3035 - val_accuracy: 0.9676\n",
            "Epoch 46/50\n",
            "37/37 [==============================] - 45s 1s/step - loss: 5.2084e-04 - accuracy: 0.9998 - val_loss: 0.2970 - val_accuracy: 0.9676\n",
            "Epoch 47/50\n",
            "37/37 [==============================] - 45s 1s/step - loss: 4.8802e-04 - accuracy: 0.9998 - val_loss: 0.2988 - val_accuracy: 0.9684\n",
            "Epoch 48/50\n",
            "37/37 [==============================] - 44s 1s/step - loss: 4.8826e-04 - accuracy: 0.9998 - val_loss: 0.3023 - val_accuracy: 0.9676\n",
            "Epoch 49/50\n",
            "37/37 [==============================] - 44s 1s/step - loss: 5.6119e-04 - accuracy: 0.9998 - val_loss: 0.3048 - val_accuracy: 0.9676\n",
            "Epoch 50/50\n",
            "37/37 [==============================] - 45s 1s/step - loss: 5.9151e-04 - accuracy: 0.9998 - val_loss: 0.3040 - val_accuracy: 0.9676\n"
          ]
        },
        {
          "output_type": "execute_result",
          "data": {
            "text/plain": [
              "<keras.callbacks.History at 0x7fe0fbd18f50>"
            ]
          },
          "metadata": {},
          "execution_count": 138
        }
      ]
    },
    {
      "cell_type": "code",
      "metadata": {
        "colab": {
          "base_uri": "https://localhost:8080/"
        },
        "id": "Ou5xJq7gIsQH",
        "outputId": "170945b6-ecda-4b81-8f5a-1e2047998b07"
      },
      "source": [
        "predictions = model.predict(X_test, batch_size=batch_size, verbose=1).argmax(axis=1)\n"
      ],
      "execution_count": null,
      "outputs": [
        {
          "output_type": "stream",
          "name": "stdout",
          "text": [
            "13/13 [==============================] - 3s 248ms/step\n"
          ]
        }
      ]
    },
    {
      "cell_type": "code",
      "metadata": {
        "colab": {
          "base_uri": "https://localhost:8080/",
          "height": 144
        },
        "id": "Cr3YCkJ8Nxom",
        "outputId": "c4e65a97-60d9-4eb4-86f7-30b1ac7f9f0a"
      },
      "source": [
        "pd.DataFrame(confusion_matrix(y_test, predictions))"
      ],
      "execution_count": null,
      "outputs": [
        {
          "output_type": "execute_result",
          "data": {
            "text/html": [
              "<div>\n",
              "<style scoped>\n",
              "    .dataframe tbody tr th:only-of-type {\n",
              "        vertical-align: middle;\n",
              "    }\n",
              "\n",
              "    .dataframe tbody tr th {\n",
              "        vertical-align: top;\n",
              "    }\n",
              "\n",
              "    .dataframe thead th {\n",
              "        text-align: right;\n",
              "    }\n",
              "</style>\n",
              "<table border=\"1\" class=\"dataframe\">\n",
              "  <thead>\n",
              "    <tr style=\"text-align: right;\">\n",
              "      <th></th>\n",
              "      <th>0</th>\n",
              "      <th>1</th>\n",
              "      <th>2</th>\n",
              "    </tr>\n",
              "  </thead>\n",
              "  <tbody>\n",
              "    <tr>\n",
              "      <th>0</th>\n",
              "      <td>438</td>\n",
              "      <td>21</td>\n",
              "      <td>10</td>\n",
              "    </tr>\n",
              "    <tr>\n",
              "      <th>1</th>\n",
              "      <td>15</td>\n",
              "      <td>452</td>\n",
              "      <td>34</td>\n",
              "    </tr>\n",
              "    <tr>\n",
              "      <th>2</th>\n",
              "      <td>1</td>\n",
              "      <td>17</td>\n",
              "      <td>652</td>\n",
              "    </tr>\n",
              "  </tbody>\n",
              "</table>\n",
              "</div>"
            ],
            "text/plain": [
              "     0    1    2\n",
              "0  438   21   10\n",
              "1   15  452   34\n",
              "2    1   17  652"
            ]
          },
          "metadata": {},
          "execution_count": 160
        }
      ]
    },
    {
      "cell_type": "code",
      "metadata": {
        "id": "4MPhtP0NOWsl",
        "colab": {
          "base_uri": "https://localhost:8080/"
        },
        "outputId": "847fa16b-3de1-4c99-e438-0ab21d91400c"
      },
      "source": [
        "accuracy_score(y_test, predictions)"
      ],
      "execution_count": null,
      "outputs": [
        {
          "output_type": "execute_result",
          "data": {
            "text/plain": [
              "0.9402439024390243"
            ]
          },
          "metadata": {},
          "execution_count": 161
        }
      ]
    },
    {
      "cell_type": "code",
      "metadata": {
        "id": "DLHTQR-uOY_o",
        "colab": {
          "base_uri": "https://localhost:8080/"
        },
        "outputId": "0c84c9f6-f4ad-4a48-a666-97aca26c6855"
      },
      "source": [
        "f1_score(y_test, predictions, average=None)"
      ],
      "execution_count": null,
      "outputs": [
        {
          "output_type": "execute_result",
          "data": {
            "text/plain": [
              "array([0.94907909, 0.91220989, 0.95461201])"
            ]
          },
          "metadata": {},
          "execution_count": 162
        }
      ]
    }
  ]
}